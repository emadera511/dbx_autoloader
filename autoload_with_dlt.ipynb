{
 "cells": [
  {
   "cell_type": "code",
   "execution_count": null,
   "metadata": {},
   "outputs": [],
   "source": [
    "from pyspark.sql.functions import * \n",
    "from pyspark.sql.types import * \n",
    "import dlt \n",
    "\n"
   ]
  },
  {
   "cell_type": "code",
   "execution_count": null,
   "metadata": {},
   "outputs": [],
   "source": [
    "#Difining schema for loading file this example will load JSON files \n",
    "\n",
    "json_schema = StructType([\n",
    "    StructField(\"id\", StringType(), True),\n",
    "    StructField(\"name\", StringType(), True), \n",
    "    StructField(\"age\", IntegerType(), True), \n",
    "    StructField(\"timestamp\", TimeStamp(), True)\n",
    "])"
   ]
  },
  {
   "cell_type": "code",
   "execution_count": null,
   "metadata": {},
   "outputs": [],
   "source": [
    "#Define the Raw Table using Delta Live Tables \n",
    "\n",
    "@dlt.table(\n",
    "    name=\"raw_jason_data\" #does not need to be in the Unit Catalog\n",
    "    comment=\"The raw data ingested from json files\"\n",
    ")\n",
    "\n",
    "@dlt.expect(\"Valid ID\", \"id IS NOT NULL and id !=''\")\n",
    "@dlt.expect(\"Valid Age\", \"age IS NOT NULL AND age > 0\")\n",
    "@dlt.expect(\"Valid Timestamp\", \"timestamp IS NOT NULL\")\n",
    "\n",
    "def raw_data(): \n",
    "    input = \"s3://mybucket/json_files\"\n",
    "\n",
    "    df = (\n",
    "        spark.readStream\n",
    "            .format(\"CloudFiles\")\n",
    "            .option(\"cloudFiles.format\", \"json\")\n",
    "            .option(\"checkpointLocation\", \"/tmp/json_checkpoint\")\n",
    "            .schema(json_schema)\n",
    "            .load(input)\n",
    "    )\n",
    "\n",
    "    return df \n",
    "\n"
   ]
  },
  {
   "cell_type": "code",
   "execution_count": null,
   "metadata": {},
   "outputs": [],
   "source": [
    "#Difine a transfromed table using delta live tables \n",
    "\n",
    "@dlt.table(\n",
    "    name=\"catalog.schema.transformed_data\",\n",
    "    comment=\"Transformed data with necessary changes\"\n",
    ")\n",
    "\n",
    "@dlt.expect(\"valid Processed\", \"processed_at IS NOT NULL\")\n",
    "\n",
    "def transform_data(): \n",
    "\n",
    "    raw_df = dlt.read_stream(\"raw_json_data\")\n",
    "    transformed_data = (\n",
    "        raw_df\n",
    "            .withColumn(\"processed_at\")\n",
    "    )"
   ]
  }
 ],
 "metadata": {
  "language_info": {
   "name": "python"
  }
 },
 "nbformat": 4,
 "nbformat_minor": 2
}
